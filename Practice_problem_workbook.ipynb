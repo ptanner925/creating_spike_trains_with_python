{
 "cells": [
  {
   "cell_type": "markdown",
   "metadata": {},
   "source": [
    "The structure and format of this is provided by Neural Data Science: A primer in Python and Matplotlib. This lesson in particular starts in Chapter 2: 0.00 to 0.01"
   ]
  },
  {
   "cell_type": "code",
   "execution_count": 1,
   "metadata": {},
   "outputs": [],
   "source": [
    "import numpy as np"
   ]
  },
  {
   "cell_type": "code",
   "execution_count": null,
   "metadata": {},
   "outputs": [],
   "source": []
  },
  {
   "cell_type": "markdown",
   "metadata": {},
   "source": [
    "# Modeling the nervous system of Caenorhabditis elegans\n",
    "C.elegans has a nervous system composed of 302 neurons divided into seven different classes. Here we pretend that C.elegans neurons produces action potentials and that they are easily classified. Here we have two arrays with each respective position corresponding to a given type of neuron's typical firing rate, and how many neurons of each type there are. The inner dot product gives us the expected spike count of each neuron, and sums up the total spike count from the entire system."
   ]
  },
  {
   "cell_type": "code",
   "execution_count": 3,
   "metadata": {},
   "outputs": [
    {
     "data": {
      "text/plain": [
       "899.5"
      ]
     },
     "execution_count": 3,
     "metadata": {},
     "output_type": "execute_result"
    }
   ],
   "source": [
    "neuralFiringRates = np.array([0.5, 1, 2, 4 ,8, 0.25, 3])\n",
    "numberofneurons = np.array([45, 15, 35, 20, 50, 36, 101])\n",
    "expectedSpikeCount = np.inner(neuralFiringRates,numberofneurons)\n",
    "expectedSpikeCount"
   ]
  },
  {
   "cell_type": "code",
   "execution_count": 4,
   "metadata": {},
   "outputs": [
    {
     "data": {
      "text/plain": [
       "302"
      ]
     },
     "execution_count": 4,
     "metadata": {},
     "output_type": "execute_result"
    }
   ],
   "source": [
    "sum(numberofneurons) "
   ]
  },
  {
   "cell_type": "markdown",
   "metadata": {},
   "source": [
    "here we can see the sum of spikecounts or actions potentials per type of neuron by performing a simple multiplication between the neuralFiringRates and numberofneurons "
   ]
  },
  {
   "cell_type": "code",
   "execution_count": 5,
   "metadata": {},
   "outputs": [
    {
     "data": {
      "text/plain": [
       "array([ 22.5,  15. ,  70. ,  80. , 400. ,   9. , 303. ])"
      ]
     },
     "execution_count": 5,
     "metadata": {},
     "output_type": "execute_result"
    }
   ],
   "source": [
    "neuralFiringRates * numberofneurons"
   ]
  },
  {
   "cell_type": "markdown",
   "metadata": {},
   "source": [
    "The matrix multiplication is not commutative, so A*B is not B*A. One represents the inner (or Dot) product, the other the outer product (referred to as the \"tensor product\"."
   ]
  },
  {
   "cell_type": "code",
   "execution_count": 7,
   "metadata": {},
   "outputs": [
    {
     "data": {
      "text/plain": [
       "array([[ 22.5 ,   7.5 ,  17.5 ,  10.  ,  25.  ,  18.  ,  50.5 ],\n",
       "       [ 45.  ,  15.  ,  35.  ,  20.  ,  50.  ,  36.  , 101.  ],\n",
       "       [ 90.  ,  30.  ,  70.  ,  40.  , 100.  ,  72.  , 202.  ],\n",
       "       [180.  ,  60.  , 140.  ,  80.  , 200.  , 144.  , 404.  ],\n",
       "       [360.  , 120.  , 280.  , 160.  , 400.  , 288.  , 808.  ],\n",
       "       [ 11.25,   3.75,   8.75,   5.  ,  12.5 ,   9.  ,  25.25],\n",
       "       [135.  ,  45.  , 105.  ,  60.  , 150.  , 108.  , 303.  ]])"
      ]
     },
     "execution_count": 7,
     "metadata": {},
     "output_type": "execute_result"
    }
   ],
   "source": [
    "spikeCountCrossComparison = np.outer(neuralFiringRates, numberofneurons)\n",
    "spikeCountCrossComparison"
   ]
  },
  {
   "cell_type": "markdown",
   "metadata": {},
   "source": [
    "The above 7X7 table gives contains the full crooss of all possible firing rates times all possible neuron groups."
   ]
  },
  {
   "cell_type": "markdown",
   "metadata": {},
   "source": [
    "# Utility of using the Outer Dot product\n",
    "\n",
    "To demonstrate why finding the various firing rates across neurons, the book dives into an example using the visual nervous system of simple organisms. In this experiment you want to use five exposure durations and five light levels, fully crossed. The outer proudct of exposure durations and light levels yields the total photon count that the organism is exposed to per condition."
   ]
  },
  {
   "cell_type": "code",
   "execution_count": 8,
   "metadata": {},
   "outputs": [
    {
     "data": {
      "text/plain": [
       "array([[ 1,  2,  4,  8, 16],\n",
       "       [ 2,  4,  8, 16, 32],\n",
       "       [ 3,  6, 12, 24, 48],\n",
       "       [ 4,  8, 16, 32, 64],\n",
       "       [ 5, 10, 20, 40, 80]])"
      ]
     },
     "execution_count": 8,
     "metadata": {},
     "output_type": "execute_result"
    }
   ],
   "source": [
    "exposureDurations = np.array([1,2,3,4,5])\n",
    "lightLevels = np.array([1,2,4,8,16])\n",
    "photonCounts = np.outer(exposureDurations,lightLevels)\n",
    "photonCounts"
   ]
  },
  {
   "cell_type": "markdown",
   "metadata": {},
   "source": [
    "# The Find Function \n",
    "\n",
    "For say you are only interested in neurons that fire at a rate of more than three spikes per second. We first find the neuron classes that meet the condition, then their corresponding numbers and add them up. This allows us to find the number of nuerons that meet our conditions. \n"
   ]
  },
  {
   "cell_type": "code",
   "execution_count": 9,
   "metadata": {},
   "outputs": [
    {
     "data": {
      "text/plain": [
       "(array([3, 4], dtype=int64),)"
      ]
     },
     "execution_count": 9,
     "metadata": {},
     "output_type": "execute_result"
    }
   ],
   "source": [
    "indices = np.where(neuralFiringRates > 3)\n",
    "indices"
   ]
  },
  {
   "cell_type": "code",
   "execution_count": 10,
   "metadata": {},
   "outputs": [
    {
     "data": {
      "text/plain": [
       "70"
      ]
     },
     "execution_count": 10,
     "metadata": {},
     "output_type": "execute_result"
    }
   ],
   "source": [
    "neuronsMeetingConditions = np.sum(numberofneurons[indices])\n",
    "neuronsMeetingConditions"
   ]
  },
  {
   "cell_type": "code",
   "execution_count": null,
   "metadata": {},
   "outputs": [],
   "source": []
  }
 ],
 "metadata": {
  "kernelspec": {
   "display_name": "Python 3",
   "language": "python",
   "name": "python3"
  },
  "language_info": {
   "codemirror_mode": {
    "name": "ipython",
    "version": 3
   },
   "file_extension": ".py",
   "mimetype": "text/x-python",
   "name": "python",
   "nbconvert_exporter": "python",
   "pygments_lexer": "ipython3",
   "version": "3.8.3"
  }
 },
 "nbformat": 4,
 "nbformat_minor": 4
}
